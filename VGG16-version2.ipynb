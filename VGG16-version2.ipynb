{
 "cells": [
  {
   "cell_type": "code",
   "execution_count": 1,
   "metadata": {},
   "outputs": [
    {
     "name": "stdout",
     "output_type": "stream",
     "text": [
      "CWD is  /Volumes/GoogleDrive/My Drive/Files/Works/Advisee/Senior Projects/2563/detecting CMV/Detect-CMV-main\n"
     ]
    }
   ],
   "source": [
    "import warnings\n",
    "warnings.filterwarnings(\"ignore\")\n",
    "import splitfolders\n",
    "import seaborn as sns\n",
    "import pandas as pd\n",
    "import numpy as np\n",
    "import os\n",
    "print('CWD is ',os.getcwd())\n",
    "import matplotlib.pyplot as plt\n",
    "%matplotlib inline\n",
    "import cv2\n",
    "from tensorflow.keras.applications.vgg16 import VGG16\n",
    "#from tensorflow.keras.applications.InceptionResNetV2 import InceptionResNetV2\n",
    "from keras.applications.inception_resnet_v2 import InceptionResNetV2\n",
    "from keras.applications.nasnet import NASNetMobile, NASNetLarge, preprocess_input\n",
    "from tensorflow.keras.applications.vgg16 import preprocess_input\n",
    "from tensorflow.keras.layers import Flatten, Conv2D, Dense, GlobalAveragePooling2D, AveragePooling2D, MaxPooling2D, BatchNormalization\n",
    "from tensorflow.keras.preprocessing import image\n",
    "from tensorflow.keras.preprocessing.image import ImageDataGenerator\n",
    "from tensorflow.keras.models import Sequential\n",
    "from tensorflow.keras.models import Model\n",
    "import numpy as np\n",
    "import scipy.misc\n",
    "import matplotlib.pyplot as plt\n",
    "import tensorflow"
   ]
  },
  {
   "cell_type": "code",
   "execution_count": 2,
   "metadata": {},
   "outputs": [
    {
     "name": "stderr",
     "output_type": "stream",
     "text": [
      "Copying files: 440 files [00:05, 87.82 files/s]\n"
     ]
    }
   ],
   "source": [
    "dataset_folder = \"./fundus_dataset\"\n",
    "output = \"./preprocess_data\"\n",
    "splitfolders.ratio(dataset_folder, output, seed=3, ratio=(.6, .2, .2))"
   ]
  },
  {
   "cell_type": "code",
   "execution_count": 3,
   "metadata": {},
   "outputs": [
    {
     "name": "stdout",
     "output_type": "stream",
     "text": [
      "Help on function ratio in module splitfolders.split:\n",
      "\n",
      "ratio(input, output='output', seed=1337, ratio=(0.8, 0.1, 0.1), group_prefix=None)\n",
      "\n"
     ]
    }
   ],
   "source": [
    "help(splitfolders.ratio)"
   ]
  },
  {
   "cell_type": "code",
   "execution_count": 4,
   "metadata": {},
   "outputs": [],
   "source": [
    "height, width = (224,224)\n",
    "batch_size = 4\n",
    "train_data_dir = r\"./preprocess_data/train\"\n",
    "valid_data_dir = r\"./preprocess_data/val\"\n",
    "test_data_dir = r\"./preprocess_data/test\""
   ]
  },
  {
   "cell_type": "code",
   "execution_count": 5,
   "metadata": {},
   "outputs": [
    {
     "name": "stdout",
     "output_type": "stream",
     "text": [
      "Found 211 images belonging to 4 classes.\n"
     ]
    }
   ],
   "source": [
    "train_datagen=ImageDataGenerator(preprocessing_function=preprocess_input, \n",
    "                                 shear_range=0.1, zoom_range=0.1, \n",
    "                                 validation_split=0.2,horizontal_flip=True)\n",
    "#print(train_datagen)\n",
    "    \n",
    "train_generator=train_datagen.flow_from_directory(train_data_dir,\n",
    "                                                  target_size=(height, width),\n",
    "                                                  batch_size=batch_size,\n",
    "                                                  class_mode=\"categorical\",\n",
    "                                                  subset='training')\n",
    "#print(train_generator)"
   ]
  },
  {
   "cell_type": "code",
   "execution_count": 6,
   "metadata": {},
   "outputs": [
    {
     "name": "stdout",
     "output_type": "stream",
     "text": [
      "Found 70 images belonging to 4 classes.\n"
     ]
    }
   ],
   "source": [
    "valid_generator=train_datagen.flow_from_directory(valid_data_dir,\n",
    "                                                  target_size=(height, width),\n",
    "                                                  batch_size=batch_size,\n",
    "                                                  class_mode=\"categorical\",\n",
    "                                                  subset='training')"
   ]
  },
  {
   "cell_type": "code",
   "execution_count": 7,
   "metadata": {},
   "outputs": [
    {
     "name": "stdout",
     "output_type": "stream",
     "text": [
      "Found 75 images belonging to 4 classes.\n"
     ]
    }
   ],
   "source": [
    "test_generator=train_datagen.flow_from_directory(test_data_dir,\n",
    "                                                  target_size=(height, width),\n",
    "                                                  batch_size=1,\n",
    "                                                  class_mode=\"categorical\",\n",
    "                                                  subset='training')\n",
    "#print(test_generator.)"
   ]
  },
  {
   "cell_type": "code",
   "execution_count": 8,
   "metadata": {},
   "outputs": [
    {
     "data": {
      "text/plain": [
       "(1, 224, 224, 3)"
      ]
     },
     "execution_count": 8,
     "metadata": {},
     "output_type": "execute_result"
    }
   ],
   "source": [
    "x,y = test_generator.next()\n",
    "x.shape\n",
    "#print(type(y))\n",
    "#print(type(x))\n",
    "#print(y)"
   ]
  },
  {
   "cell_type": "code",
   "execution_count": 71,
   "metadata": {},
   "outputs": [],
   "source": [
    "base_model = VGG16(include_top=False, weights='imagenet')\n",
    "x = base_model.output\n",
    "x = GlobalAveragePooling2D()(x)\n",
    "x = Dense(1024, activation='relu')(x)\n",
    "predicions = Dense(train_generator.num_classes, activation='softmax')(x)\n",
    "model = Model(inputs=base_model.input,outputs=predicions)\n",
    "#type(predicions)"
   ]
  },
  {
   "cell_type": "code",
   "execution_count": 9,
   "metadata": {},
   "outputs": [
    {
     "name": "stdout",
     "output_type": "stream",
     "text": [
      "Downloading data from https://storage.googleapis.com/tensorflow/keras-applications/nasnet/NASNet-mobile-no-top.h5\n",
      "19996672/19993432 [==============================] - 1s 0us/step\n",
      "20004864/19993432 [==============================] - 1s 0us/step\n"
     ]
    }
   ],
   "source": [
    "base_model = NASNetMobile(include_top=False, weights='imagenet')\n",
    "x = base_model.output\n",
    "x = GlobalAveragePooling2D()(x)\n",
    "x = Dense(1024, activation='relu')(x)\n",
    "predicions = Dense(train_generator.num_classes, activation='softmax')(x)\n",
    "model = Model(inputs=base_model.input,outputs=predicions)\n",
    "#type(predicions)"
   ]
  },
  {
   "cell_type": "code",
   "execution_count": 10,
   "metadata": {},
   "outputs": [],
   "source": [
    "for layer in base_model.layers:\n",
    "    layer.trainable = False\n",
    "    \n",
    "model.compile(optimizer='adam', loss='categorical_crossentropy', metrics=['accuracy'])"
   ]
  },
  {
   "cell_type": "code",
   "execution_count": 11,
   "metadata": {},
   "outputs": [
    {
     "name": "stdout",
     "output_type": "stream",
     "text": [
      "Epoch 1/30\n",
      "53/53 [==============================] - 17s 131ms/step - loss: 2.3995 - accuracy: 0.5972\n",
      "Epoch 2/30\n",
      "53/53 [==============================] - 8s 146ms/step - loss: 0.9210 - accuracy: 0.7630\n",
      "Epoch 3/30\n",
      "53/53 [==============================] - 7s 129ms/step - loss: 0.8406 - accuracy: 0.7962\n",
      "Epoch 4/30\n",
      "53/53 [==============================] - 7s 129ms/step - loss: 0.6854 - accuracy: 0.8199\n",
      "Epoch 5/30\n",
      "53/53 [==============================] - 7s 131ms/step - loss: 0.9442 - accuracy: 0.7441\n",
      "Epoch 6/30\n",
      "53/53 [==============================] - 7s 128ms/step - loss: 0.7847 - accuracy: 0.8389\n",
      "Epoch 7/30\n",
      "53/53 [==============================] - 6s 118ms/step - loss: 0.6528 - accuracy: 0.8341\n",
      "Epoch 8/30\n",
      "53/53 [==============================] - 10s 184ms/step - loss: 0.8082 - accuracy: 0.7962\n",
      "Epoch 9/30\n",
      "53/53 [==============================] - 11s 215ms/step - loss: 0.5507 - accuracy: 0.8341\n",
      "Epoch 10/30\n",
      "53/53 [==============================] - 9s 173ms/step - loss: 0.3315 - accuracy: 0.9005\n",
      "Epoch 11/30\n",
      "53/53 [==============================] - 9s 161ms/step - loss: 0.5369 - accuracy: 0.8436\n",
      "Epoch 12/30\n",
      "53/53 [==============================] - 9s 163ms/step - loss: 0.4845 - accuracy: 0.8483\n",
      "Epoch 13/30\n",
      "53/53 [==============================] - 10s 194ms/step - loss: 0.4057 - accuracy: 0.8626\n",
      "Epoch 14/30\n",
      "53/53 [==============================] - 9s 171ms/step - loss: 0.2290 - accuracy: 0.9242\n",
      "Epoch 15/30\n",
      "53/53 [==============================] - 10s 191ms/step - loss: 0.3834 - accuracy: 0.8626\n",
      "Epoch 16/30\n",
      "53/53 [==============================] - 10s 180ms/step - loss: 0.3974 - accuracy: 0.8910\n",
      "Epoch 17/30\n",
      "53/53 [==============================] - 10s 184ms/step - loss: 0.3866 - accuracy: 0.8910\n",
      "Epoch 18/30\n",
      "53/53 [==============================] - 8s 158ms/step - loss: 0.3008 - accuracy: 0.9005\n",
      "Epoch 19/30\n",
      "53/53 [==============================] - 8s 154ms/step - loss: 0.2901 - accuracy: 0.8910\n",
      "Epoch 20/30\n",
      "53/53 [==============================] - 9s 172ms/step - loss: 0.3644 - accuracy: 0.8863\n",
      "Epoch 21/30\n",
      "53/53 [==============================] - 8s 155ms/step - loss: 0.3127 - accuracy: 0.9147\n",
      "Epoch 22/30\n",
      "53/53 [==============================] - 9s 164ms/step - loss: 0.2013 - accuracy: 0.9384\n",
      "Epoch 23/30\n",
      "53/53 [==============================] - 9s 173ms/step - loss: 0.2476 - accuracy: 0.9005\n",
      "Epoch 24/30\n",
      "53/53 [==============================] - 8s 159ms/step - loss: 0.3050 - accuracy: 0.9005\n",
      "Epoch 25/30\n",
      "53/53 [==============================] - 8s 154ms/step - loss: 0.2451 - accuracy: 0.9100\n",
      "Epoch 26/30\n",
      "53/53 [==============================] - 7s 140ms/step - loss: 0.2926 - accuracy: 0.9005\n",
      "Epoch 27/30\n",
      "53/53 [==============================] - 8s 156ms/step - loss: 0.2225 - accuracy: 0.9194\n",
      "Epoch 28/30\n",
      "53/53 [==============================] - 8s 152ms/step - loss: 0.2064 - accuracy: 0.9242\n",
      "Epoch 29/30\n",
      "53/53 [==============================] - 8s 156ms/step - loss: 0.3453 - accuracy: 0.8578\n",
      "Epoch 30/30\n",
      "53/53 [==============================] - 9s 161ms/step - loss: 0.1988 - accuracy: 0.9242\n"
     ]
    },
    {
     "data": {
      "text/plain": [
       "<keras.callbacks.History at 0x7fb4c256f3d0>"
      ]
     },
     "execution_count": 11,
     "metadata": {},
     "output_type": "execute_result"
    }
   ],
   "source": [
    "model.fit(train_generator,epochs=30)"
   ]
  },
  {
   "cell_type": "code",
   "execution_count": 53,
   "metadata": {},
   "outputs": [],
   "source": [
    "model.save(\"./Saved_Model/VGG163.h5\")"
   ]
  },
  {
   "cell_type": "code",
   "execution_count": 12,
   "metadata": {},
   "outputs": [],
   "source": [
    "model.save(\"./Saved_Model/NASNetMobile.h5\")"
   ]
  },
  {
   "cell_type": "code",
   "execution_count": 13,
   "metadata": {},
   "outputs": [
    {
     "name": "stdout",
     "output_type": "stream",
     "text": [
      "75/75 - 6s - loss: 0.1761 - accuracy: 0.9600\n",
      "\n",
      "Test accuracy:  0.9599999785423279\n"
     ]
    }
   ],
   "source": [
    "from sklearn.metrics import confusion_matrix, cohen_kappa_score,accuracy_score\n",
    "\n",
    "test_loss, test_acc = model.evaluate(test_generator, verbose=2)\n",
    "print('\\nTest accuracy: ', test_acc)"
   ]
  },
  {
   "cell_type": "code",
   "execution_count": null,
   "metadata": {},
   "outputs": [],
   "source": [
    "model = tensorflow.keras.models.load_model(\"./Saved_Model/VGG162.h5\")\n",
    "nb_samples = len(test_generator)\n",
    "y_prob=[]\n",
    "y_act=[]\n",
    "test_generator.reset()\n",
    "for _ in range(nb_samples):\n",
    "    #print(X_test,Y_test)\n",
    "    X_test,Y_test = test_generator.next()\n",
    "    y_prob.append(model.predict(X_test))\n",
    "    y_act.append(Y_test)\n",
    "    \n",
    "predicted_class = [list(train_generator.class_indices.keys())[i.argmax()] for i in y_prob]\n",
    "actual_class = [list(train_generator.class_indices.keys())[i.argmax()] for i in y_act]"
   ]
  },
  {
   "cell_type": "code",
   "execution_count": 14,
   "metadata": {},
   "outputs": [],
   "source": [
    "model = tensorflow.keras.models.load_model(\"./Saved_Model/NASNetMobile.h5\")\n",
    "nb_samples = len(test_generator)\n",
    "y_prob=[]\n",
    "y_act=[]\n",
    "test_generator.reset()\n",
    "for _ in range(nb_samples):\n",
    "    #print(X_test,Y_test)\n",
    "    X_test,Y_test = test_generator.next()\n",
    "    y_prob.append(model.predict(X_test))\n",
    "    y_act.append(Y_test)\n",
    "    \n",
    "predicted_class = [list(train_generator.class_indices.keys())[i.argmax()] for i in y_prob]\n",
    "actual_class = [list(train_generator.class_indices.keys())[i.argmax()] for i in y_act]"
   ]
  },
  {
   "cell_type": "code",
   "execution_count": 15,
   "metadata": {},
   "outputs": [
    {
     "name": "stdout",
     "output_type": "stream",
     "text": [
      "75/75 - 7s - loss: 0.1855 - accuracy: 0.9200\n",
      "\n",
      "Test accuracy:  0.9200000166893005\n"
     ]
    }
   ],
   "source": [
    "from sklearn.metrics import confusion_matrix, cohen_kappa_score,accuracy_score\n",
    "\n",
    "test_loss, test_acc = model.evaluate(test_generator, verbose=2)\n",
    "print('\\nTest accuracy: ', test_acc)"
   ]
  },
  {
   "cell_type": "code",
   "execution_count": 9,
   "metadata": {},
   "outputs": [
    {
     "name": "stdout",
     "output_type": "stream",
     "text": [
      "Downloading data from https://storage.googleapis.com/tensorflow/keras-applications/inception_resnet_v2/inception_resnet_v2_weights_tf_dim_ordering_tf_kernels_notop.h5\n",
      "219062272/219055592 [==============================] - 8s 0us/step\n",
      "219070464/219055592 [==============================] - 8s 0us/step\n"
     ]
    }
   ],
   "source": [
    "base_model = InceptionResNetV2(weights='imagenet', include_top=False)\n",
    "x = base_model.output\n",
    "x = GlobalAveragePooling2D()(x)\n",
    "x = Dense(1024, activation='relu')(x)\n",
    "predicions = Dense(train_generator.num_classes, activation='softmax')(x)\n",
    "model = Model(inputs=base_model.input,outputs=predicions)\n",
    "#type(predicions)"
   ]
  },
  {
   "cell_type": "code",
   "execution_count": 10,
   "metadata": {},
   "outputs": [],
   "source": [
    "for layer in base_model.layers:\n",
    "    layer.trainable = False\n",
    "    \n",
    "model.compile(optimizer='adam', loss='categorical_crossentropy', metrics=['accuracy'])"
   ]
  },
  {
   "cell_type": "code",
   "execution_count": 11,
   "metadata": {},
   "outputs": [
    {
     "name": "stdout",
     "output_type": "stream",
     "text": [
      "Epoch 1/30\n",
      "53/53 [==============================] - 28s 357ms/step - loss: 214.2552 - accuracy: 0.3602\n",
      "Epoch 2/30\n",
      "53/53 [==============================] - 19s 367ms/step - loss: 30.5218 - accuracy: 0.4550\n",
      "Epoch 3/30\n",
      "53/53 [==============================] - 22s 410ms/step - loss: 26.1469 - accuracy: 0.4550\n",
      "Epoch 4/30\n",
      "53/53 [==============================] - 29s 542ms/step - loss: 17.2758 - accuracy: 0.5498\n",
      "Epoch 5/30\n",
      "53/53 [==============================] - 24s 443ms/step - loss: 15.0242 - accuracy: 0.4645\n",
      "Epoch 6/30\n",
      "53/53 [==============================] - 24s 459ms/step - loss: 9.8386 - accuracy: 0.5592\n",
      "Epoch 7/30\n",
      "53/53 [==============================] - 27s 513ms/step - loss: 6.3115 - accuracy: 0.5213\n",
      "Epoch 8/30\n",
      "53/53 [==============================] - 28s 520ms/step - loss: 12.2561 - accuracy: 0.4834\n",
      "Epoch 9/30\n",
      "53/53 [==============================] - 36s 675ms/step - loss: 5.4134 - accuracy: 0.6066\n",
      "Epoch 10/30\n",
      "53/53 [==============================] - 30s 559ms/step - loss: 2.1404 - accuracy: 0.6161\n",
      "Epoch 11/30\n",
      "53/53 [==============================] - 27s 503ms/step - loss: 1.8967 - accuracy: 0.6161\n",
      "Epoch 12/30\n",
      "53/53 [==============================] - 25s 467ms/step - loss: 1.1478 - accuracy: 0.6540\n",
      "Epoch 13/30\n",
      "53/53 [==============================] - 27s 513ms/step - loss: 1.6167 - accuracy: 0.5640\n",
      "Epoch 14/30\n",
      "53/53 [==============================] - 23s 436ms/step - loss: 0.9019 - accuracy: 0.6682\n",
      "Epoch 15/30\n",
      "53/53 [==============================] - 23s 439ms/step - loss: 1.1129 - accuracy: 0.6161\n",
      "Epoch 16/30\n",
      "53/53 [==============================] - 23s 432ms/step - loss: 1.7602 - accuracy: 0.5450\n",
      "Epoch 17/30\n",
      "53/53 [==============================] - 22s 420ms/step - loss: 1.1168 - accuracy: 0.5735\n",
      "Epoch 18/30\n",
      "53/53 [==============================] - 27s 510ms/step - loss: 1.2008 - accuracy: 0.5308\n",
      "Epoch 19/30\n",
      "53/53 [==============================] - 27s 505ms/step - loss: 1.1040 - accuracy: 0.5498\n",
      "Epoch 20/30\n",
      "53/53 [==============================] - 23s 443ms/step - loss: 1.3416 - accuracy: 0.3270\n",
      "Epoch 21/30\n",
      "53/53 [==============================] - 23s 434ms/step - loss: 1.4815 - accuracy: 0.3270\n",
      "Epoch 22/30\n",
      "53/53 [==============================] - 23s 437ms/step - loss: 1.3146 - accuracy: 0.3270\n",
      "Epoch 23/30\n",
      "53/53 [==============================] - 25s 466ms/step - loss: 1.3033 - accuracy: 0.3270\n",
      "Epoch 24/30\n",
      "53/53 [==============================] - 25s 472ms/step - loss: 1.3020 - accuracy: 0.3270\n",
      "Epoch 25/30\n",
      "53/53 [==============================] - 23s 435ms/step - loss: 1.2848 - accuracy: 0.3270\n",
      "Epoch 26/30\n",
      "53/53 [==============================] - 23s 431ms/step - loss: 1.2772 - accuracy: 0.3270\n",
      "Epoch 27/30\n",
      "53/53 [==============================] - 24s 448ms/step - loss: 1.2699 - accuracy: 0.3270\n",
      "Epoch 28/30\n",
      "53/53 [==============================] - 26s 486ms/step - loss: 1.2636 - accuracy: 0.3270\n",
      "Epoch 29/30\n",
      "53/53 [==============================] - 25s 457ms/step - loss: 1.2579 - accuracy: 0.3270\n",
      "Epoch 30/30\n",
      "53/53 [==============================] - 24s 460ms/step - loss: 1.2527 - accuracy: 0.3270\n"
     ]
    },
    {
     "data": {
      "text/plain": [
       "<keras.callbacks.History at 0x7faf9b420d90>"
      ]
     },
     "execution_count": 11,
     "metadata": {},
     "output_type": "execute_result"
    }
   ],
   "source": [
    "model.fit(train_generator,epochs=30)"
   ]
  },
  {
   "cell_type": "code",
   "execution_count": 12,
   "metadata": {},
   "outputs": [],
   "source": [
    "model.save(\"./Saved_Model/InceptionResNetV2.h5\")"
   ]
  },
  {
   "cell_type": "code",
   "execution_count": 13,
   "metadata": {},
   "outputs": [],
   "source": [
    "model = tensorflow.keras.models.load_model(\"./Saved_Model/InceptionResNetV2.h5\")\n",
    "nb_samples = len(test_generator)\n",
    "y_prob=[]\n",
    "y_act=[]\n",
    "test_generator.reset()\n",
    "for _ in range(nb_samples):\n",
    "    #print(X_test,Y_test)\n",
    "    X_test,Y_test = test_generator.next()\n",
    "    y_prob.append(model.predict(X_test))\n",
    "    y_act.append(Y_test)\n",
    "    \n",
    "predicted_class = [list(train_generator.class_indices.keys())[i.argmax()] for i in y_prob]\n",
    "actual_class = [list(train_generator.class_indices.keys())[i.argmax()] for i in y_act]"
   ]
  },
  {
   "cell_type": "code",
   "execution_count": 14,
   "metadata": {},
   "outputs": [
    {
     "name": "stdout",
     "output_type": "stream",
     "text": [
      "75/75 - 17s - loss: 1.2530 - accuracy: 0.3200\n",
      "\n",
      "Test accuracy:  0.3199999928474426\n"
     ]
    }
   ],
   "source": [
    "from sklearn.metrics import confusion_matrix, cohen_kappa_score,accuracy_score\n",
    "\n",
    "test_loss, test_acc = model.evaluate(test_generator, verbose=2)\n",
    "print('\\nTest accuracy: ', test_acc)\n"
   ]
  },
  {
   "cell_type": "code",
   "execution_count": 55,
   "metadata": {},
   "outputs": [],
   "source": [
    "model = tensorflow.keras.models.load_model(\"./Saved_Model/VGG162.h5\")\n",
    "nb_samples = len(test_generator)\n",
    "y_prob=[]\n",
    "y_act=[]\n",
    "test_generator.reset()\n",
    "for _ in range(nb_samples):\n",
    "    #print(X_test,Y_test)\n",
    "    X_test,Y_test = test_generator.next()\n",
    "    y_prob.append(model.predict(X_test))\n",
    "    y_act.append(Y_test)\n",
    "    \n",
    "predicted_class = [list(train_generator.class_indices.keys())[i.argmax()] for i in y_prob]\n",
    "actual_class = [list(train_generator.class_indices.keys())[i.argmax()] for i in y_act]"
   ]
  },
  {
   "cell_type": "code",
   "execution_count": 15,
   "metadata": {},
   "outputs": [],
   "source": [
    "model = tensorflow.keras.models.load_model(\"./Saved_Model/InceptionResNetV2.h5\")\n",
    "nb_samples = len(test_generator)\n",
    "y_prob=[]\n",
    "y_act=[]\n",
    "test_generator.reset()\n",
    "for _ in range(nb_samples):\n",
    "    #print(X_test,Y_test)\n",
    "    X_test,Y_test = test_generator.next()\n",
    "    y_prob.append(model.predict(X_test))\n",
    "    y_act.append(Y_test)\n",
    "    \n",
    "predicted_class = [list(train_generator.class_indices.keys())[i.argmax()] for i in y_prob]\n",
    "actual_class = [list(train_generator.class_indices.keys())[i.argmax()] for i in y_act]"
   ]
  },
  {
   "cell_type": "code",
   "execution_count": 16,
   "metadata": {},
   "outputs": [],
   "source": [
    "model = tensorflow.keras.models.load_model(\"./Saved_Model/NASNetMobile.h5\")\n",
    "nb_samples = len(test_generator)\n",
    "y_prob=[]\n",
    "y_act=[]\n",
    "test_generator.reset()\n",
    "for _ in range(nb_samples):\n",
    "    #print(X_test,Y_test)\n",
    "    X_test,Y_test = test_generator.next()\n",
    "    y_prob.append(model.predict(X_test))\n",
    "    y_act.append(Y_test)\n",
    "    \n",
    "predicted_class = [list(train_generator.class_indices.keys())[i.argmax()] for i in y_prob]\n",
    "actual_class = [list(train_generator.class_indices.keys())[i.argmax()] for i in y_act]"
   ]
  },
  {
   "cell_type": "code",
   "execution_count": 17,
   "metadata": {},
   "outputs": [],
   "source": [
    "out_df = pd.DataFrame(np.vstack([predicted_class,actual_class]).T,columns=['predicted_class','actual_class'])\n",
    "confusion_matrix = pd.crosstab(out_df['predicted_class'],out_df['actual_class'], rownames=['Actual'],colnames=['Predicted'])"
   ]
  },
  {
   "cell_type": "code",
   "execution_count": 18,
   "metadata": {},
   "outputs": [],
   "source": [
    "#fo = open('output_result.txt','w')\n",
    "#fo.write(out_df)\n",
    "#fo.close()\n",
    "out_df.to_csv('output_result.csv')"
   ]
  },
  {
   "cell_type": "code",
   "execution_count": 19,
   "metadata": {},
   "outputs": [
    {
     "data": {
      "image/png": "[encoded data removed]",
      "text/plain": [
       "<Figure size 432x288 with 2 Axes>"
      ]
     },
     "metadata": {
      "needs_background": "light"
     },
     "output_type": "display_data"
    },
    {
     "name": "stdout",
     "output_type": "stream",
     "text": [
      "Test accuracy: 94.66666666666667\n"
     ]
    }
   ],
   "source": [
    "sns.heatmap(confusion_matrix, annot=True, fmt='d', cmap=\"Greys\")\n",
    "plt.show()\n",
    "print('Test accuracy: {}'.format((np.diagonal(confusion_matrix).sum()/confusion_matrix.sum().sum()*100)))"
   ]
  },
  {
   "cell_type": "code",
   "execution_count": 19,
   "metadata": {},
   "outputs": [],
   "source": [
    "from matplotlib.pyplot import imread\n",
    "from tensorflow.keras.preprocessing.image import img_to_array, load_img"
   ]
  },
  {
   "cell_type": "code",
   "execution_count": 60,
   "metadata": {},
   "outputs": [
    {
     "name": "stdout",
     "output_type": "stream",
     "text": [
      "Input image unseen shape: (1, 224, 224, 3)\n",
      "[[1.0000000e+00 7.3418249e-15 5.7576123e-22 1.9527255e-18]]\n",
      "Unseen image predicted class: [0]\n"
     ]
    },
    {
     "data": {
      "image/png": "[encoded data removed]",
      "text/plain": [
       "<Figure size 432x288 with 1 Axes>"
      ]
     },
     "metadata": {
      "needs_background": "light"
     },
     "output_type": "display_data"
    }
   ],
   "source": [
    "img_unseen_path = 'test.jpg'\n",
    "img_test = image.load_img(img_unseen_path, target_size=(224,224))\n",
    "x = image.img_to_array(img_test)\n",
    "x = np.expand_dims(x, axis=0)\n",
    "x = preprocess_input(x)\n",
    "print('Input image unseen shape:', x.shape)\n",
    "project_img = imread(img_unseen_path)\n",
    "plt.imshow(project_img)\n",
    "print(model.predict(x))\n",
    "predict=model.predict(x)\n",
    "predict=np.argmax(predict,axis=1)\n",
    "print('Unseen image predicted class:', predict)"
   ]
  },
  {
   "cell_type": "code",
   "execution_count": 61,
   "metadata": {},
   "outputs": [
    {
     "name": "stdout",
     "output_type": "stream",
     "text": [
      "[[4.4389866e-13 1.3930910e-09 1.0000000e+00 2.7237284e-17]]\n",
      "Unseen image predicted class: [2]\n"
     ]
    }
   ],
   "source": [
    "im2 = image.load_img('preprocess_data/test2/other/039-other.jpg', target_size=(224,224))\n",
    "x = image.img_to_array(im2)\n",
    "x = np.expand_dims(x,axis=0)\n",
    "x = preprocess_input(x)\n",
    "predict = model.predict(x)\n",
    "print(model.predict(x))\n",
    "predict=np.argmax(predict,axis=1)\n",
    "print('Unseen image predicted class:', predict)"
   ]
  },
  {
   "cell_type": "code",
   "execution_count": 20,
   "metadata": {},
   "outputs": [
    {
     "name": "stdout",
     "output_type": "stream",
     "text": [
      "103-unk.jpg Unseen image predicted class: [1]\n",
      "138-nor.jpg Unseen image predicted class: [1]\n",
      "154-unk.jpg Unseen image predicted class: [3]\n",
      "164-nor.jpg Unseen image predicted class: [0]\n",
      "184-cmv.jpg Unseen image predicted class: [0]\n",
      "013-nor.jpg Unseen image predicted class: [0]\n",
      "036-other.jpg Unseen image predicted class: [2]\n",
      "083-nor.jpg Unseen image predicted class: [0]\n",
      "105-other.jpg Unseen image predicted class: [2]\n",
      "110-cmv.jpg Unseen image predicted class: [2]\n",
      "126-nor.jpg Unseen image predicted class: [1]\n",
      "163-cmv.jpg Unseen image predicted class: [2]\n",
      "174-nor.jpg Unseen image predicted class: [0]\n",
      "189-cmv.jpg Unseen image predicted class: [0]\n",
      "001-nor.jpg Unseen image predicted class: [1]\n",
      "002-nor.jpg Unseen image predicted class: [0]\n",
      "003-nor.jpg Unseen image predicted class: [0]\n",
      "004-nor.jpg Unseen image predicted class: [0]\n",
      "005-nor.jpg Unseen image predicted class: [1]\n",
      "006-nor.jpg Unseen image predicted class: [2]\n",
      "007-nor.jpg Unseen image predicted class: [1]\n",
      "008-nor.jpg Unseen image predicted class: [2]\n",
      "011-nor.jpg Unseen image predicted class: [1]\n",
      "012-nor.jpg Unseen image predicted class: [1]\n",
      "015-nor.jpg Unseen image predicted class: [2]\n",
      "016-nor.jpg Unseen image predicted class: [1]\n",
      "017-nor.jpg Unseen image predicted class: [1]\n",
      "019-nor.jpg Unseen image predicted class: [2]\n",
      "020-nor.jpg Unseen image predicted class: [1]\n",
      "024-nor.jpg Unseen image predicted class: [1]\n",
      "026-nor.jpg Unseen image predicted class: [1]\n",
      "027-nor.jpg Unseen image predicted class: [1]\n",
      "029-nor.jpg Unseen image predicted class: [1]\n",
      "031-nor.jpg Unseen image predicted class: [1]\n",
      "033-nor.jpg Unseen image predicted class: [2]\n",
      "034-nor.jpg Unseen image predicted class: [1]\n",
      "035-nor.jpg Unseen image predicted class: [1]\n",
      "038-nor.jpg Unseen image predicted class: [1]\n",
      "040-nor.jpg Unseen image predicted class: [1]\n",
      "041-nor.jpg Unseen image predicted class: [1]\n",
      "042-nor.jpg Unseen image predicted class: [1]\n",
      "044-nor.jpg Unseen image predicted class: [1]\n",
      "045-nor.jpg Unseen image predicted class: [1]\n",
      "047-nor.jpg Unseen image predicted class: [1]\n",
      "049-nor.jpg Unseen image predicted class: [1]\n",
      "050-nor.jpg Unseen image predicted class: [1]\n",
      "051-nor.jpg Unseen image predicted class: [0]\n",
      "053-nor.jpg Unseen image predicted class: [1]\n",
      "054-nor.jpg Unseen image predicted class: [1]\n",
      "056-nor.jpg Unseen image predicted class: [1]\n",
      "057-nor.jpg Unseen image predicted class: [0]\n",
      "058-nor.jpg Unseen image predicted class: [1]\n",
      "059-nor.jpg Unseen image predicted class: [1]\n",
      "062-nor.jpg Unseen image predicted class: [0]\n",
      "063-nor.jpg Unseen image predicted class: [1]\n",
      "068-nor.jpg Unseen image predicted class: [1]\n",
      "069-nor.jpg Unseen image predicted class: [1]\n",
      "071-nor.jpg Unseen image predicted class: [1]\n",
      "073-nor.jpg Unseen image predicted class: [1]\n",
      "074-nor.jpg Unseen image predicted class: [1]\n",
      "075-nor.jpg Unseen image predicted class: [1]\n",
      "076-nor.jpg Unseen image predicted class: [2]\n",
      "077-cmv.jpg Unseen image predicted class: [1]\n",
      "080-nor.jpg Unseen image predicted class: [2]\n",
      "082-nor.jpg Unseen image predicted class: [1]\n",
      "084-nor.jpg Unseen image predicted class: [0]\n",
      "086-nor.jpg Unseen image predicted class: [0]\n",
      "087-nor.jpg Unseen image predicted class: [1]\n",
      "088-nor.jpg Unseen image predicted class: [2]\n",
      "089-nor.jpg Unseen image predicted class: [1]\n",
      "090-nor.jpg Unseen image predicted class: [0]\n",
      "091-nor.jpg Unseen image predicted class: [1]\n",
      "094-nor.jpg Unseen image predicted class: [1]\n",
      "096-nor.jpg Unseen image predicted class: [1]\n",
      "098-nor.jpg Unseen image predicted class: [1]\n",
      "099-nor.jpg Unseen image predicted class: [2]\n",
      "101-nor.jpg Unseen image predicted class: [1]\n",
      "102-nor.jpg Unseen image predicted class: [1]\n",
      "104-nor.jpg Unseen image predicted class: [1]\n",
      "107-nor.jpg Unseen image predicted class: [1]\n",
      "108-nor.jpg Unseen image predicted class: [1]\n",
      "109-nor.jpg Unseen image predicted class: [1]\n",
      "111-nor.jpg Unseen image predicted class: [1]\n",
      "112-nor.jpg Unseen image predicted class: [1]\n",
      "113-nor.jpg Unseen image predicted class: [1]\n",
      "116-nor.jpg Unseen image predicted class: [2]\n",
      "117-nor.jpg Unseen image predicted class: [1]\n",
      "119-nor.jpg Unseen image predicted class: [1]\n",
      "120-nor.jpg Unseen image predicted class: [1]\n",
      "121-cmv.jpg Unseen image predicted class: [1]\n",
      "122-nor.jpg Unseen image predicted class: [1]\n",
      "124-nor.jpg Unseen image predicted class: [1]\n",
      "125-nor.jpg Unseen image predicted class: [0]\n",
      "128-nor.jpg Unseen image predicted class: [1]\n",
      "131-nor.jpg Unseen image predicted class: [1]\n",
      "132-nor.jpg Unseen image predicted class: [1]\n",
      "133-nor.jpg Unseen image predicted class: [0]\n",
      "134-nor.jpg Unseen image predicted class: [0]\n",
      "135-nor.jpg Unseen image predicted class: [1]\n",
      "136-nor.jpg Unseen image predicted class: [1]\n",
      "137-nor.jpg Unseen image predicted class: [0]\n",
      "139-nor.jpg Unseen image predicted class: [1]\n",
      "140-nor.jpg Unseen image predicted class: [1]\n",
      "141-nor.jpg Unseen image predicted class: [1]\n",
      "142-nor.jpg Unseen image predicted class: [1]\n",
      "143-nor.jpg Unseen image predicted class: [1]\n",
      "144-nor.jpg Unseen image predicted class: [1]\n",
      "145-nor.jpg Unseen image predicted class: [1]\n",
      "146-nor.jpg Unseen image predicted class: [2]\n",
      "147-cmv.jpg Unseen image predicted class: [0]\n",
      "148-nor.jpg Unseen image predicted class: [1]\n",
      "149-nor.jpg Unseen image predicted class: [1]\n",
      "150-nor.jpg Unseen image predicted class: [1]\n",
      "151-nor.jpg Unseen image predicted class: [1]\n",
      "152-nor.jpg Unseen image predicted class: [1]\n",
      "156-nor.jpg Unseen image predicted class: [1]\n",
      "157-nor.jpg Unseen image predicted class: [0]\n",
      "158-nor.jpg Unseen image predicted class: [1]\n",
      "159-nor.jpg Unseen image predicted class: [1]\n",
      "160-nor.jpg Unseen image predicted class: [1]\n",
      "161-nor.jpg Unseen image predicted class: [1]\n",
      "162-nor.jpg Unseen image predicted class: [1]\n",
      "166-nor.jpg Unseen image predicted class: [1]\n",
      "168-nor.jpg Unseen image predicted class: [1]\n",
      "170-nor.jpg Unseen image predicted class: [1]\n",
      "171-nor.jpg Unseen image predicted class: [1]\n",
      "173-nor.jpg Unseen image predicted class: [1]\n",
      "175-nor.jpg Unseen image predicted class: [1]\n",
      "176-nor.jpg Unseen image predicted class: [1]\n",
      "178-nor.jpg Unseen image predicted class: [1]\n",
      "179-nor.jpg Unseen image predicted class: [1]\n",
      "181-nor.jpg Unseen image predicted class: [1]\n",
      "182-nor.jpg Unseen image predicted class: [0]\n",
      "183-nor.jpg Unseen image predicted class: [1]\n",
      "185-nor.jpg Unseen image predicted class: [2]\n",
      "191-nor.jpg Unseen image predicted class: [1]\n",
      "192-nor.jpg Unseen image predicted class: [1]\n",
      "194-nor.jpg Unseen image predicted class: [1]\n",
      "009-cmv.jpg Unseen image predicted class: [0]\n",
      "023-cmv.jpg Unseen image predicted class: [0]\n",
      "030-cmv.jpg Unseen image predicted class: [0]\n",
      "037-cmv.jpg Unseen image predicted class: [0]\n",
      "039-other.jpg Unseen image predicted class: [2]\n",
      "060-cmv.jpg Unseen image predicted class: [0]\n",
      "061-cmv.jpg Unseen image predicted class: [0]\n",
      "064-cmv.jpg Unseen image predicted class: [0]\n",
      "070-cmv.jpg Unseen image predicted class: [0]\n",
      "072-cmv.jpg Unseen image predicted class: [0]\n",
      "081-nor.jpg Unseen image predicted class: [0]\n",
      "085-cmv.jpg Unseen image predicted class: [0]\n",
      "095-cmv.jpg Unseen image predicted class: [2]\n",
      "097-cmv.jpg Unseen image predicted class: [0]\n",
      "106-cmv.jpg Unseen image predicted class: [0]\n",
      "114-cmv.jpg Unseen image predicted class: [0]\n",
      "115-cmv.jpg Unseen image predicted class: [0]\n",
      "118-cmv.jpg Unseen image predicted class: [0]\n",
      "123-cmv.jpg Unseen image predicted class: [0]\n",
      "129-cmv.jpg Unseen image predicted class: [0]\n",
      "153-cmv.jpg Unseen image predicted class: [0]\n",
      "155-cmv.jpg Unseen image predicted class: [0]\n",
      "167-cmv.jpg Unseen image predicted class: [0]\n",
      "180-cmv.jpg Unseen image predicted class: [0]\n",
      "186-cmv.jpg Unseen image predicted class: [0]\n",
      "187-cmv.jpg Unseen image predicted class: [0]\n",
      "193-cmv.jpg Unseen image predicted class: [0]\n"
     ]
    }
   ],
   "source": [
    "output_prec = open('output_prec.csv', 'w')\n",
    "directory = os.getcwd() + '/All images'\n",
    "\n",
    "#print(directory)\n",
    "for filename in os.listdir(directory):\n",
    "   with open(os.path.join(directory, filename), 'r') as f: # open in readonly mode\n",
    "        file_dic = directory + '/' + filename\n",
    "        #print(file_dic)\n",
    "        #print(filename)\n",
    "        im2 = image.load_img(file_dic, target_size=(224,224))\n",
    "        x = image.img_to_array(im2)\n",
    "        x = np.expand_dims(x,axis=0)\n",
    "        x = preprocess_input(x)\n",
    "        predict = model.predict(x)\n",
    "        #print(model.predict(x))\n",
    "        predict=np.argmax(predict,axis=1)\n",
    "        print(filename, 'Unseen image predicted class:', predict)\n",
    "        #print(type(predict))\n",
    "        #output = filename + predict\n",
    "        #print(output)\n",
    "        #print(predict)\n",
    "        #output_prec.write(filename)\n",
    "        #output_prec.write(':')\n",
    "        #output_prec.write(predict.fromstring(ts, dtype=str))\n",
    "        #output_prec.write('\\n')"
   ]
  },
  {
   "cell_type": "code",
   "execution_count": 20,
   "metadata": {},
   "outputs": [],
   "source": [
    "#img_unseen_path = 'diabetic.jpg'\n",
    "#img_test = image.load_img(img_unseen_path, target_size=(224,224))\n",
    "#x = image.img_to_array(img_test)\n",
    "#x = np.expand_dims(x, axis=0)\n",
    "#x = preprocess_input(x)\n",
    "#print('Input image unseen shape:', x.shape)\n",
    "#project_img = imread(img_unseen_path)\n",
    "#plt.imshow(project_img)\n",
    "##print(model.predict(x))\n",
    "#predict=model.predict(x)\n",
    "#predict=np.argmax(predict,axis=1)\n",
    "#print('Unseen image predicted class:', predict)"
   ]
  },
  {
   "cell_type": "code",
   "execution_count": 21,
   "metadata": {},
   "outputs": [],
   "source": [
    "#img_unseen_path = 'diabetic_1.jpg'\n",
    "#img_test = image.load_img(img_unseen_path, target_size=(224,224))\n",
    "#x = image.img_to_array(img_test)\n",
    "#x = np.expand_dims(x, axis=0)\n",
    "#x = preprocess_input(x)\n",
    "#print('Input image unseen shape:', x.shape)\n",
    "#project_img = imread(img_unseen_path)\n",
    "#plt.imshow(project_img)\n",
    "##print(model.predict(x))\n",
    "#predict=model.predict(x)\n",
    "#predict=np.argmax(predict,axis=1)\n",
    "#print('Unseen image predicted class:', predict)"
   ]
  },
  {
   "cell_type": "code",
   "execution_count": 22,
   "metadata": {},
   "outputs": [],
   "source": [
    "#img_unseen_path = 'test1.jpg'\n",
    "#img_test = image.load_img(img_unseen_path, target_size=(224,224))\n",
    "#x = image.img_to_array(img_test)\n",
    "#x = np.expand_dims(x, axis=0)\n",
    "#x = preprocess_input(x)\n",
    "#print('Input image unseen shape:', x.shape)\n",
    "#project_img = imread(img_unseen_path)\n",
    "#plt.imshow(project_img)\n",
    "##print(model.predict(x))\n",
    "#predict=model.predict(x)\n",
    "#predict=np.argmax(predict,axis=1)\n",
    "#print('Unseen image predicted class:', predict)"
   ]
  },
  {
   "cell_type": "code",
   "execution_count": 23,
   "metadata": {},
   "outputs": [],
   "source": [
    "#img_unseen_path = 'unk.jpg'\n",
    "#img_test = image.load_img(img_unseen_path, target_size=(224,224))\n",
    "#x = image.img_to_array(img_test)\n",
    "#x = np.expand_dims(x, axis=0)\n",
    "#x = preprocess_input(x)\n",
    "#print('Input image unseen shape:', x.shape)\n",
    "#project_img = imread(img_unseen_path)\n",
    "#plt.imshow(project_img)\n",
    "##print(model.predict(x))\n",
    "#predict=model.predict(x)\n",
    "#predict=np.argmax(predict,axis=1)\n",
    "#print('Unseen image predicted class:', predict)"
   ]
  },
  {
   "cell_type": "code",
   "execution_count": 24,
   "metadata": {},
   "outputs": [],
   "source": [
    "#img_unseen_path = 'blur.jpg'\n",
    "#img_test = image.load_img(img_unseen_path, target_size=(224,224))\n",
    "#x = image.img_to_array(img_test)\n",
    "#x = np.expand_dims(x, axis=0)\n",
    "#x = preprocess_input(x)\n",
    "#print('Input image unseen shape:', x.shape)\n",
    "#project_img = imread(img_unseen_path)\n",
    "#plt.imshow(project_img)\n",
    "##print(model.predict(x))\n",
    "#predict=model.predict(x)\n",
    "#predict=np.argmax(predict,axis=1)\n",
    "#print('Unseen image predicted class:', predict)"
   ]
  },
  {
   "cell_type": "code",
   "execution_count": 25,
   "metadata": {},
   "outputs": [
    {
     "data": {
      "text/html": [
       "<div>\n",
       "<style scoped>\n",
       "    .dataframe tbody tr th:only-of-type {\n",
       "        vertical-align: middle;\n",
       "    }\n",
       "\n",
       "    .dataframe tbody tr th {\n",
       "        vertical-align: top;\n",
       "    }\n",
       "\n",
       "    .dataframe thead th {\n",
       "        text-align: right;\n",
       "    }\n",
       "</style>\n",
       "<table border=\"1\" class=\"dataframe\">\n",
       "  <thead>\n",
       "    <tr style=\"text-align: right;\">\n",
       "      <th></th>\n",
       "      <th>predicted_class</th>\n",
       "      <th>actual_class</th>\n",
       "    </tr>\n",
       "  </thead>\n",
       "  <tbody>\n",
       "    <tr>\n",
       "      <th>0</th>\n",
       "      <td>other</td>\n",
       "      <td>other</td>\n",
       "    </tr>\n",
       "    <tr>\n",
       "      <th>1</th>\n",
       "      <td>normal</td>\n",
       "      <td>normal</td>\n",
       "    </tr>\n",
       "    <tr>\n",
       "      <th>2</th>\n",
       "      <td>other</td>\n",
       "      <td>other</td>\n",
       "    </tr>\n",
       "    <tr>\n",
       "      <th>3</th>\n",
       "      <td>unknown</td>\n",
       "      <td>cmv</td>\n",
       "    </tr>\n",
       "    <tr>\n",
       "      <th>4</th>\n",
       "      <td>normal</td>\n",
       "      <td>unknown</td>\n",
       "    </tr>\n",
       "    <tr>\n",
       "      <th>...</th>\n",
       "      <td>...</td>\n",
       "      <td>...</td>\n",
       "    </tr>\n",
       "    <tr>\n",
       "      <th>70</th>\n",
       "      <td>cmv</td>\n",
       "      <td>cmv</td>\n",
       "    </tr>\n",
       "    <tr>\n",
       "      <th>71</th>\n",
       "      <td>normal</td>\n",
       "      <td>cmv</td>\n",
       "    </tr>\n",
       "    <tr>\n",
       "      <th>72</th>\n",
       "      <td>normal</td>\n",
       "      <td>normal</td>\n",
       "    </tr>\n",
       "    <tr>\n",
       "      <th>73</th>\n",
       "      <td>normal</td>\n",
       "      <td>normal</td>\n",
       "    </tr>\n",
       "    <tr>\n",
       "      <th>74</th>\n",
       "      <td>normal</td>\n",
       "      <td>normal</td>\n",
       "    </tr>\n",
       "  </tbody>\n",
       "</table>\n",
       "<p>75 rows × 2 columns</p>\n",
       "</div>"
      ],
      "text/plain": [
       "   predicted_class actual_class\n",
       "0            other        other\n",
       "1           normal       normal\n",
       "2            other        other\n",
       "3          unknown          cmv\n",
       "4           normal      unknown\n",
       "..             ...          ...\n",
       "70             cmv          cmv\n",
       "71          normal          cmv\n",
       "72          normal       normal\n",
       "73          normal       normal\n",
       "74          normal       normal\n",
       "\n",
       "[75 rows x 2 columns]"
      ]
     },
     "execution_count": 25,
     "metadata": {},
     "output_type": "execute_result"
    }
   ],
   "source": [
    "out_df"
   ]
  },
  {
   "cell_type": "code",
   "execution_count": 26,
   "metadata": {},
   "outputs": [
    {
     "data": {
      "text/html": [
       "<div>\n",
       "<style scoped>\n",
       "    .dataframe tbody tr th:only-of-type {\n",
       "        vertical-align: middle;\n",
       "    }\n",
       "\n",
       "    .dataframe tbody tr th {\n",
       "        vertical-align: top;\n",
       "    }\n",
       "\n",
       "    .dataframe thead th {\n",
       "        text-align: right;\n",
       "    }\n",
       "</style>\n",
       "<table border=\"1\" class=\"dataframe\">\n",
       "  <thead>\n",
       "    <tr style=\"text-align: right;\">\n",
       "      <th></th>\n",
       "      <th>predicted_class</th>\n",
       "      <th>actual_class</th>\n",
       "    </tr>\n",
       "  </thead>\n",
       "  <tbody>\n",
       "    <tr>\n",
       "      <th>0</th>\n",
       "      <td>2</td>\n",
       "      <td>2</td>\n",
       "    </tr>\n",
       "    <tr>\n",
       "      <th>1</th>\n",
       "      <td>1</td>\n",
       "      <td>1</td>\n",
       "    </tr>\n",
       "    <tr>\n",
       "      <th>2</th>\n",
       "      <td>2</td>\n",
       "      <td>2</td>\n",
       "    </tr>\n",
       "    <tr>\n",
       "      <th>3</th>\n",
       "      <td>3</td>\n",
       "      <td>0</td>\n",
       "    </tr>\n",
       "    <tr>\n",
       "      <th>4</th>\n",
       "      <td>1</td>\n",
       "      <td>3</td>\n",
       "    </tr>\n",
       "    <tr>\n",
       "      <th>...</th>\n",
       "      <td>...</td>\n",
       "      <td>...</td>\n",
       "    </tr>\n",
       "    <tr>\n",
       "      <th>70</th>\n",
       "      <td>0</td>\n",
       "      <td>0</td>\n",
       "    </tr>\n",
       "    <tr>\n",
       "      <th>71</th>\n",
       "      <td>1</td>\n",
       "      <td>0</td>\n",
       "    </tr>\n",
       "    <tr>\n",
       "      <th>72</th>\n",
       "      <td>1</td>\n",
       "      <td>1</td>\n",
       "    </tr>\n",
       "    <tr>\n",
       "      <th>73</th>\n",
       "      <td>1</td>\n",
       "      <td>1</td>\n",
       "    </tr>\n",
       "    <tr>\n",
       "      <th>74</th>\n",
       "      <td>1</td>\n",
       "      <td>1</td>\n",
       "    </tr>\n",
       "  </tbody>\n",
       "</table>\n",
       "<p>75 rows × 2 columns</p>\n",
       "</div>"
      ],
      "text/plain": [
       "    predicted_class  actual_class\n",
       "0                 2             2\n",
       "1                 1             1\n",
       "2                 2             2\n",
       "3                 3             0\n",
       "4                 1             3\n",
       "..              ...           ...\n",
       "70                0             0\n",
       "71                1             0\n",
       "72                1             1\n",
       "73                1             1\n",
       "74                1             1\n",
       "\n",
       "[75 rows x 2 columns]"
      ]
     },
     "execution_count": 26,
     "metadata": {},
     "output_type": "execute_result"
    }
   ],
   "source": [
    "from sklearn import preprocessing\n",
    "  \n",
    "# label_encoder object knows how to understand word labels.\n",
    "label_encoder = preprocessing.LabelEncoder()\n",
    "  \n",
    "# Encode labels in column 'species'.\n",
    "out_df['actual_class']= label_encoder.fit_transform(out_df['actual_class'])\n",
    "out_df['predicted_class']= label_encoder.fit_transform(out_df['predicted_class'])\n",
    "\n",
    "out_df"
   ]
  },
  {
   "cell_type": "markdown",
   "metadata": {},
   "source": [
    "- class 0 = CMV retinitis\n",
    "- class 1 = normal\n",
    "- class 2 = other retinitis\n",
    "- class 3 = unknown or can't diagnosis"
   ]
  },
  {
   "cell_type": "code",
   "execution_count": 27,
   "metadata": {
    "scrolled": true
   },
   "outputs": [
    {
     "data": {
      "text/plain": [
       "array(['other', 'normal', 'other', 'cmv', 'unknown', 'other', 'other',\n",
       "       'other', 'other', 'cmv', 'other', 'cmv', 'normal', 'other',\n",
       "       'normal', 'other', 'other', 'cmv', 'other', 'cmv', 'other', 'cmv',\n",
       "       'normal', 'other', 'cmv', 'cmv', 'cmv', 'normal', 'cmv', 'normal',\n",
       "       'cmv', 'cmv', 'cmv', 'normal', 'other', 'other', 'normal', 'cmv',\n",
       "       'cmv', 'normal', 'other', 'other', 'normal', 'cmv', 'normal',\n",
       "       'other', 'normal', 'unknown', 'cmv', 'other', 'cmv', 'other',\n",
       "       'normal', 'cmv', 'cmv', 'normal', 'normal', 'cmv', 'normal',\n",
       "       'other', 'other', 'normal', 'cmv', 'other', 'cmv', 'cmv', 'cmv',\n",
       "       'other', 'normal', 'normal', 'cmv', 'cmv', 'normal', 'normal',\n",
       "       'normal'], dtype=object)"
      ]
     },
     "execution_count": 27,
     "metadata": {},
     "output_type": "execute_result"
    }
   ],
   "source": [
    "inverted = label_encoder.inverse_transform(out_df['actual_class'])\n",
    "inverted"
   ]
  },
  {
   "cell_type": "code",
   "execution_count": 28,
   "metadata": {},
   "outputs": [
    {
     "name": "stdout",
     "output_type": "stream",
     "text": [
      "Train Cohen Kappa score: 0.811\n",
      "Train Accuracy score : 0.907\n"
     ]
    }
   ],
   "source": [
    "print(\"Train Cohen Kappa score: %.3f\" % cohen_kappa_score(out_df['predicted_class'], out_df['actual_class'].astype('int'), \n",
    "                                                          weights='quadratic'))\n",
    "print(\"Train Accuracy score : %.3f\" % accuracy_score( out_df['actual_class'].astype('int'),out_df['predicted_class']))"
   ]
  },
  {
   "cell_type": "markdown",
   "metadata": {},
   "source": [
    "acc,kappa\n",
    "1.000, 1.000\n",
    "0.982, 0.960\n",
    "1.000, 1.000"
   ]
  },
  {
   "cell_type": "code",
   "execution_count": 29,
   "metadata": {},
   "outputs": [
    {
     "data": {
      "text/plain": [
       "'2.6.0'"
      ]
     },
     "execution_count": 29,
     "metadata": {},
     "output_type": "execute_result"
    }
   ],
   "source": [
    "tensorflow.version.VERSION"
   ]
  },
  {
   "cell_type": "code",
   "execution_count": 30,
   "metadata": {},
   "outputs": [
    {
     "name": "stdout",
     "output_type": "stream",
     "text": [
      "\n"
     ]
    }
   ],
   "source": [
    "print()"
   ]
  }
 ],
 "metadata": {
  "kernelspec": {
   "display_name": "Python 3",
   "language": "python",
   "name": "python3"
  },
  "language_info": {
   "codemirror_mode": {
    "name": "ipython",
    "version": 3
   },
   "file_extension": ".py",
   "mimetype": "text/x-python",
   "name": "python",
   "nbconvert_exporter": "python",
   "pygments_lexer": "ipython3",
   "version": "3.8.8"
  }
 },
 "nbformat": 4,
 "nbformat_minor": 4
}
